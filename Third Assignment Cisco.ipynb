{
 "cells": [
  {
   "cell_type": "markdown",
   "metadata": {},
   "source": [
    "Question No 1 Make a calculator using Python with addition , subtraction , multiplication ,\n",
    "division and power."
   ]
  },
  {
   "cell_type": "code",
   "execution_count": 14,
   "metadata": {},
   "outputs": [
    {
     "name": "stdout",
     "output_type": "stream",
     "text": [
      "Enter first number : 10\n",
      "Enter second number : 20\n",
      "\n",
      "Enter 1 for addition :\n",
      "Enter 2 for subtraction :\n",
      "Enter 3 for multiplication :\n",
      "Enter 4 for division :\n",
      "Enter 5 for power: \n",
      "Enter your choice: 3\n",
      "\n",
      "Answer : 200\n"
     ]
    }
   ],
   "source": [
    "q = None\n",
    "No1 = int(input(\"Enter first number : \"))\n",
    "No2 = int(input(\"Enter second number : \"))\n",
    "\n",
    "print(\"\\nEnter 1 for addition :\")\n",
    "print(\"Enter 2 for subtraction :\")\n",
    "print(\"Enter 3 for multiplication :\")\n",
    "print(\"Enter 4 for division :\")\n",
    "print(\"Enter 5 for power: \")\n",
    "y = int(input(\"Enter your choice: \"))\n",
    "\n",
    "if y == 1:\n",
    "     q = No1+No2\n",
    "elif y == 2:\n",
    "     q = No1-No2\n",
    "elif y == 3:\n",
    "     q = No1*No2\n",
    "elif y == 4:\n",
    "     q = No1/No2\n",
    "elif y == 5:\n",
    "     q = No1**No2\n",
    "    \n",
    "print(f\"\\nAnswer : {q}\")"
   ]
  },
  {
   "cell_type": "markdown",
   "metadata": {},
   "source": [
    " Question NO 2 Write a program to check if there is any numeric value in list using for loop\n"
   ]
  },
  {
   "cell_type": "code",
   "execution_count": 16,
   "metadata": {},
   "outputs": [
    {
     "name": "stdout",
     "output_type": "stream",
     "text": [
      "There is a numeric value in list : 10\n"
     ]
    }
   ],
   "source": [
    "list = [\"Abdullah\",  \"3\", 10,\"PIAIC\"]\n",
    "for value in list:\n",
    "    if type(value) == int or type(value) == float:\n",
    "        print(f\"There is a numeric value in list : {value}\")\n",
    "        break\n",
    "\n"
   ]
  },
  {
   "cell_type": "markdown",
   "metadata": {},
   "source": [
    "Question No 3 Write a Python script to add a key to a dictionary"
   ]
  },
  {
   "cell_type": "code",
   "execution_count": 17,
   "metadata": {},
   "outputs": [
    {
     "name": "stdout",
     "output_type": "stream",
     "text": [
      "Key is added\n"
     ]
    }
   ],
   "source": [
    "dic = {}\n",
    "dic[1] = \"Key is added\"\n",
    "\n",
    "print(dic[1])"
   ]
  },
  {
   "cell_type": "markdown",
   "metadata": {},
   "source": [
    "Question NO 4 Write a Python program to sum all the numeric items in a dictionary"
   ]
  },
  {
   "cell_type": "code",
   "execution_count": 19,
   "metadata": {},
   "outputs": [
    {
     "name": "stdout",
     "output_type": "stream",
     "text": [
      "Sum = 62\n"
     ]
    }
   ],
   "source": [
    "Variable = 0\n",
    "dic = {1: 2 ,\n",
    "           2: \"Abdullah\", \n",
    "           3: 10, \n",
    "           4:\"Not a numeric\",\n",
    "           5: 50}\n",
    "\n",
    "for value in dic.values():\n",
    "    if type(value) == int or type(value) == float:\n",
    "        Variable = Variable + value        \n",
    "        \n",
    "print(f\"Total = {Variable}\")\n",
    "\n"
   ]
  },
  {
   "cell_type": "markdown",
   "metadata": {},
   "source": [
    "Question No 5 Write a program to identify duplicate values from list"
   ]
  },
  {
   "cell_type": "code",
   "execution_count": 23,
   "metadata": {},
   "outputs": [
    {
     "name": "stdout",
     "output_type": "stream",
     "text": [
      "Duplicated Value : Abdullah\n",
      "Duplicated Value : Abdullah\n",
      "Duplicated Value : 5\n",
      "Duplicated Value : 5\n"
     ]
    }
   ],
   "source": [
    "list = [\"Abdullah\", \"Abdullah\", 1, 5, 0.2, 5, 6]\n",
    "for value in list:\n",
    "    if  list.count(value) > 1:\n",
    "        print(f\"Duplicated Value : {value}\")\n",
    "\n"
   ]
  },
  {
   "cell_type": "markdown",
   "metadata": {},
   "source": [
    "Question No 6 Write a Python script to check if a given key already exists in a dictionary"
   ]
  },
  {
   "cell_type": "code",
   "execution_count": 31,
   "metadata": {},
   "outputs": [
    {
     "name": "stdout",
     "output_type": "stream",
     "text": [
      "3 Key is already exist\n"
     ]
    }
   ],
   "source": [
    "dictonary = { 1: \"key1\",\n",
    "              2: \"key2\",\n",
    "              3: \"key3\"}\n",
    "\n",
    "key_1 = 3\n",
    "\n",
    "for key in dictonary.keys():\n",
    "    if key == key_1:\n",
    "        print(f\"{key} Key is already exist\")"
   ]
  },
  {
   "cell_type": "code",
   "execution_count": null,
   "metadata": {},
   "outputs": [],
   "source": []
  }
 ],
 "metadata": {
  "kernelspec": {
   "display_name": "Python 3",
   "language": "python",
   "name": "python3"
  },
  "language_info": {
   "codemirror_mode": {
    "name": "ipython",
    "version": 3
   },
   "file_extension": ".py",
   "mimetype": "text/x-python",
   "name": "python",
   "nbconvert_exporter": "python",
   "pygments_lexer": "ipython3",
   "version": "3.7.3"
  }
 },
 "nbformat": 4,
 "nbformat_minor": 2
}
